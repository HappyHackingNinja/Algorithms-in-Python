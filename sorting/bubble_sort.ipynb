{
 "cells": [
  {
   "cell_type": "markdown",
   "metadata": {},
   "source": [
    "# Bubble Sort\n",
    "\n",
    "A naive sorting that compares and swaps adjacent elements.\n",
    "\n",
    "![Bubble_sort](bubble_sort.gif)\n",
    "\n",
    "* Data structure: Array\n",
    "* Worst-case performance: $O(n^{2})$\n",
    "* Best-case performance: $O(n)$\n",
    "* Average performance: $O(n^{2})$\n",
    "* Worst-case space complexity: $O(1)$ auxiliary\n",
    "* Psuedo code: [Wikiwand](https://www.wikiwand.com/en/Bubble_sort)"
   ]
  },
  {
   "cell_type": "code",
   "execution_count": null,
   "metadata": {
    "collapsed": true
   },
   "outputs": [],
   "source": [
    "def sort(seq):\n",
    "    \"\"\"\n",
    "    Takes a list of integers and sorts them in ascending order. This sorted\n",
    "    list is then returned.\n",
    "    :param seq: A list of integers\n",
    "    :rtype: A list of sorted integers\n",
    "    \"\"\"\n",
    "    L = len(seq)\n",
    "    for i in range(L):\n",
    "        for n in range(1, L - i):\n",
    "            if seq[n] < seq[n - 1]:\n",
    "                seq[n - 1], seq[n] = seq[n], seq[n - 1]\n",
    "    return seq"
   ]
  },
  {
   "cell_type": "code",
   "execution_count": null,
   "metadata": {
    "collapsed": false
   },
   "outputs": [],
   "source": [
    "import random\n",
    "import unittest\n",
    "\n",
    "class TestBubbleSort(unittest.TestCase):\n",
    "    \"\"\"\n",
    "    Tests Bubble sort on a small range from 0-9\n",
    "    \"\"\"\n",
    "    def setUp(self):\n",
    "        self.input = list(range(10))\n",
    "        random.shuffle(self.input)\n",
    "        self.correct = list(range(10))\n",
    "\n",
    "    def test_bubblesort(self):\n",
    "        self.output = sort(self.input)\n",
    "        self.assertEqual(self.correct, self.output)\n",
    "        \n",
    "suite = unittest.TestSuite()\n",
    "suite.addTests(unittest.TestLoader().loadTestsFromTestCase(TestBubbleSort))\n",
    "unittest.TextTestRunner(verbosity=2).run(suite)"
   ]
  }
 ],
 "metadata": {
  "kernelspec": {
   "display_name": "Python 3",
   "language": "python",
   "name": "python3"
  },
  "language_info": {
   "codemirror_mode": {
    "name": "ipython",
    "version": 3
   },
   "file_extension": ".py",
   "mimetype": "text/x-python",
   "name": "python",
   "nbconvert_exporter": "python",
   "pygments_lexer": "ipython3",
   "version": "3.6.0"
  }
 },
 "nbformat": 4,
 "nbformat_minor": 2
}
