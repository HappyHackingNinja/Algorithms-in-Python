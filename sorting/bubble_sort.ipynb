{
 "cells": [
  {
   "cell_type": "markdown",
   "metadata": {},
   "source": [
    "# Bubble Sort\n",
    "\n",
    "A naive sorting that compares and swaps adjacent elements.\n",
    "\n",
    "![Bubble_sort](bubble_search.gif)\n",
    "\n",
    "* Data structure: Array\n",
    "* Worst-case performance: O(n^{2})\n",
    "* Best-case performance: O(n)\n",
    "* Average performance: O(n^{2})\n",
    "* Worst-case space complexity: O(1) auxiliary\n",
    "* Psuedo code: [Wikiwand](https://www.wikiwand.com/en/Bubble_sort)"
   ]
  },
  {
   "cell_type": "code",
   "execution_count": null,
   "metadata": {
    "collapsed": true
   },
   "outputs": [],
   "source": [
    "def sort(seq):\n",
    "    \"\"\"\n",
    "    Takes a list of integers and sorts them in ascending order. This sorted\n",
    "    list is then returned.\n",
    "    :param seq: A list of integers\n",
    "    :rtype: A list of sorted integers\n",
    "    \"\"\"\n",
    "    L = len(seq)\n",
    "    for i in range(L):\n",
    "        for n in range(1, L - i):\n",
    "            if seq[n] < seq[n - 1]:\n",
    "                seq[n - 1], seq[n] = seq[n], seq[n - 1]\n",
    "    return seq"
   ]
  }
 ],
 "metadata": {
  "kernelspec": {
   "display_name": "Python 3",
   "language": "python",
   "name": "python3"
  },
  "language_info": {
   "codemirror_mode": {
    "name": "ipython",
    "version": 3
   },
   "file_extension": ".py",
   "mimetype": "text/x-python",
   "name": "python",
   "nbconvert_exporter": "python",
   "pygments_lexer": "ipython3",
   "version": "3.6.0"
  }
 },
 "nbformat": 4,
 "nbformat_minor": 2
}
