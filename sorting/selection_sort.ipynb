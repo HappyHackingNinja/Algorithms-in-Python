{
 "cells": [
  {
   "cell_type": "markdown",
   "metadata": {},
   "source": [
    "# Selection Sort\n",
    "\n",
    "A sorting that uses in-place comparison.\n",
    "\n",
    "![selection_sort](selection_sort.gif)\n",
    "\n",
    "* Data structure: Array\n",
    "* Worst-case performance: $O(n^2)$\n",
    "* Best-case performance: $O(n^2)$\n",
    "* Average performance: $O(n^2)$\n",
    "* Worst-case space complexity\n",
    "    * $O(n)$ total\n",
    "    * $O(1)$ auxiliary\n",
    "\n",
    "* Psuedo code: [Wikiwand](https://www.wikiwand.com/en/Selection_sort)"
   ]
  },
  {
   "cell_type": "code",
   "execution_count": null,
   "metadata": {
    "collapsed": true
   },
   "outputs": [],
   "source": [
    "def sort(seq):\n",
    "    \"\"\"\n",
    "    Takes a list of integers and sorts them in ascending order. This sorted\n",
    "    list is then returned.\n",
    "    :param seq: A list of integers\n",
    "    :rtype: A list of sorted integers\n",
    "    \"\"\"\n",
    "    for i in range(0, len(seq)):\n",
    "        iMin = i\n",
    "        for j in range(i+1, len(seq)):\n",
    "            if seq[iMin] > seq[j]:\n",
    "                iMin = j\n",
    "        if i != iMin:\n",
    "            seq[i], seq[iMin] = seq[iMin], seq[i]\n",
    "\n",
    "    return seq"
   ]
  },
  {
   "cell_type": "code",
   "execution_count": null,
   "metadata": {
    "collapsed": false
   },
   "outputs": [],
   "source": [
    "import random\n",
    "import unittest\n",
    "\n",
    "class TestSelectionort(unittest.TestCase):\n",
    "    \"\"\"\n",
    "    Test Selection sort on a small range from 0-9\n",
    "    \"\"\"\n",
    "    def setUp(self):\n",
    "        self.input = list(range(10))\n",
    "        random.shuffle(self.input)\n",
    "        self.correct = list(range(10))\n",
    "\n",
    "    def test_selectionsort(self):\n",
    "        self.output = sort(self.input)\n",
    "        self.assertEqual(self.correct, self.output)\n",
    "        \n",
    "suite = unittest.TestSuite()\n",
    "suite.addTests(unittest.TestLoader().loadTestsFromTestCase(TestSelectionort))\n",
    "unittest.TextTestRunner(verbosity=2).run(suite)"
   ]
  }
 ],
 "metadata": {
  "kernelspec": {
   "display_name": "Python 3",
   "language": "python",
   "name": "python3"
  },
  "language_info": {
   "codemirror_mode": {
    "name": "ipython",
    "version": 3
   },
   "file_extension": ".py",
   "mimetype": "text/x-python",
   "name": "python",
   "nbconvert_exporter": "python",
   "pygments_lexer": "ipython3",
   "version": "3.6.0"
  }
 },
 "nbformat": 4,
 "nbformat_minor": 2
}
