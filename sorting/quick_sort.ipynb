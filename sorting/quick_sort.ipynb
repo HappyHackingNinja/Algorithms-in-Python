{
 "cells": [
  {
   "cell_type": "markdown",
   "metadata": {},
   "source": [
    "# Quick Sort\n",
    "\n",
    "Uses partitioning to recursively divide and sort the list\n",
    "\n",
    "![quick_sort](quick_sort.gif)\n",
    "\n",
    "* Data structure: Array\n",
    "* Worst-case performance: $O(n^2)$\n",
    "* Best-case performance:\n",
    "    * $O(n log n)$ (simple partition)\n",
    "    * $O(n)$ (three-way partition and equal keys)\n",
    "* Average performance: $O(n log n)$\n",
    "* Worst-case space complexity\n",
    "    * $O(n)$ auxiliary (naive)\n",
    "    * $O(log n)$ auxiliary (Sedgewick 1978)\n",
    "\n",
    "* Psuedo code: [Wikiwand](https://www.wikiwand.com/en/Quicksort)"
   ]
  },
  {
   "cell_type": "code",
   "execution_count": 1,
   "metadata": {
    "collapsed": true
   },
   "outputs": [],
   "source": [
    "def sort(seq):\n",
    "    \"\"\"\n",
    "    Takes a list of integers and sorts them in ascending order. This sorted\n",
    "    list is then returned.\n",
    "    :param seq: A list of integers\n",
    "    :rtype: A list of sorted integers\n",
    "    \"\"\"\n",
    "    if len(seq) <= 1:\n",
    "        return seq\n",
    "    else:\n",
    "        pivot = seq[0]\n",
    "        left, right = [], []\n",
    "        for x in seq[1:]:\n",
    "            if x < pivot:\n",
    "                left.append(x)\n",
    "            else:\n",
    "                right.append(x)\n",
    "        return sort(left) + [pivot] + sort(right)"
   ]
  },
  {
   "cell_type": "code",
   "execution_count": 2,
   "metadata": {
    "collapsed": false
   },
   "outputs": [
    {
     "name": "stderr",
     "output_type": "stream",
     "text": [
      "test_quicksort (__main__.TestQuickSort) ... ok\n",
      "\n",
      "----------------------------------------------------------------------\n",
      "Ran 1 test in 0.003s\n",
      "\n",
      "OK\n"
     ]
    },
    {
     "data": {
      "text/plain": [
       "<unittest.runner.TextTestResult run=1 errors=0 failures=0>"
      ]
     },
     "execution_count": 2,
     "metadata": {},
     "output_type": "execute_result"
    }
   ],
   "source": [
    "import random\n",
    "import unittest\n",
    "\n",
    "class TestQuickSort(unittest.TestCase):\n",
    "    \"\"\"\n",
    "    Test Quick sort on a small range from 0-9\n",
    "    \"\"\"\n",
    "    def setUp(self):\n",
    "        self.input = list(range(10))\n",
    "        random.shuffle(self.input)\n",
    "        self.correct = list(range(10))\n",
    "\n",
    "    def test_quicksort(self):\n",
    "        self.output = sort(self.input)\n",
    "        self.assertEqual(self.correct, self.output)\n",
    "        \n",
    "suite = unittest.TestSuite()\n",
    "suite.addTests(unittest.TestLoader().loadTestsFromTestCase(TestQuickSort))\n",
    "unittest.TextTestRunner(verbosity=2).run(suite)"
   ]
  }
 ],
 "metadata": {
  "kernelspec": {
   "display_name": "Python 3",
   "language": "python",
   "name": "python3"
  },
  "language_info": {
   "codemirror_mode": {
    "name": "ipython",
    "version": 3
   },
   "file_extension": ".py",
   "mimetype": "text/x-python",
   "name": "python",
   "nbconvert_exporter": "python",
   "pygments_lexer": "ipython3",
   "version": "3.6.0"
  }
 },
 "nbformat": 4,
 "nbformat_minor": 2
}
