{
 "cells": [
  {
   "cell_type": "markdown",
   "metadata": {},
   "source": [
    "# Binary Search\n",
    "\n",
    "Recursively partitions the list until the `key` is found.\n",
    "\n",
    "![Binary_search_algorithm](binary_search.png)\n",
    "\n",
    "* Data structure: Array\n",
    "* Worst-case performance: $O(log n)$\n",
    "* Best-case performance: $O(1)$\n",
    "* Average performance: $O(log n)$\n",
    "* Worst-case space complexity: $O(1)$\n",
    "* Psuedo Code: [Wikiwand](https://www.wikiwand.com/en/Binary_search_algorithm)"
   ]
  },
  {
   "cell_type": "code",
   "execution_count": null,
   "metadata": {
    "collapsed": true
   },
   "outputs": [],
   "source": [
    "def search(seq, key):\n",
    "    \"\"\"\n",
    "    Takes a list of sorted integers and searches if the `key` is contained within\n",
    "    the list.\n",
    "    :param seq: A list of sorted integers\n",
    "    :param key: The integer to be searched for\n",
    "    :rtype: The index of where the `key` is located in the list. If `key` is\n",
    "            not found then False is returned.\n",
    "    \"\"\"\n",
    "\n",
    "    lo = 0\n",
    "    hi = len(seq) - 1\n",
    "\n",
    "    while hi >= lo:\n",
    "        mid = lo + (hi - lo) // 2\n",
    "        if seq[mid] < key:\n",
    "            lo = mid + 1\n",
    "        elif seq[mid] > key:\n",
    "            hi = mid - 1\n",
    "        else:\n",
    "            return mid\n",
    "    return False"
   ]
  },
  {
   "cell_type": "code",
   "execution_count": null,
   "metadata": {
    "collapsed": false
   },
   "outputs": [],
   "source": [
    "import unittest\n",
    "\n",
    "class TestBinarySearch(unittest.TestCase):\n",
    "    \"\"\"\n",
    "    Tests Binary Search on a small range from 0-9\n",
    "    \"\"\"\n",
    "\n",
    "    def test_binarysearch(self):\n",
    "        self.seq = range(10)\n",
    "        rv1 = search(self.seq, 0)\n",
    "        rv2 = search(self.seq, 9)\n",
    "        rv3 = search(self.seq, -1)\n",
    "        rv4 = search(self.seq, 10)\n",
    "        rv5 = search(self.seq, 4)\n",
    "        self.assertIs(rv1, 0)\n",
    "        self.assertIs(rv2, 9)\n",
    "        self.assertFalse(rv3)\n",
    "        self.assertFalse(rv4)\n",
    "        self.assertIs(rv5, 4)\n",
    "        self.seq = range(9)\n",
    "        rv1 = search(self.seq, 0)\n",
    "        rv2 = search(self.seq, 8)\n",
    "        rv3 = search(self.seq, -1)\n",
    "        rv4 = search(self.seq, 10)\n",
    "        rv5 = search(self.seq, 4)\n",
    "        self.assertIs(rv1, 0)\n",
    "        self.assertIs(rv2, 8)\n",
    "        self.assertFalse(rv3)\n",
    "        self.assertFalse(rv4)\n",
    "        self.assertIs(rv5, 4)\n",
    "        \n",
    "suite = unittest.TestSuite()\n",
    "suite.addTests(unittest.TestLoader().loadTestsFromTestCase(TestBinarySearch))\n",
    "unittest.TextTestRunner(verbosity=2).run(suite)"
   ]
  }
 ],
 "metadata": {
  "kernelspec": {
   "display_name": "Python 3",
   "language": "python",
   "name": "python3"
  },
  "language_info": {
   "codemirror_mode": {
    "name": "ipython",
    "version": 3
   },
   "file_extension": ".py",
   "mimetype": "text/x-python",
   "name": "python",
   "nbconvert_exporter": "python",
   "pygments_lexer": "ipython3",
   "version": "3.6.0"
  }
 },
 "nbformat": 4,
 "nbformat_minor": 2
}
