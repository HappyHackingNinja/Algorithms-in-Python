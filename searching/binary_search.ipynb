{
 "cells": [
  {
   "cell_type": "markdown",
   "metadata": {},
   "source": [
    "# Binary Search\n",
    "\n",
    "Recursively partitions the list until the `key` is found.\n",
    "\n",
    "![Binary_search_algorithm](https://upload.wikimedia.org/wikipedia/commons/thumb/8/83/Binary_Search_Depiction.svg/640px-Binary_Search_Depiction.svg.png?1505047966869)\n",
    "\n",
    "* Data structure: Array\n",
    "* Worst-case performance: O(log n)\n",
    "* Best-case performance: O(1)\n",
    "* Average performance: O(log n)\n",
    "* Worst-case space complexity: O(1)\n",
    "* Psuedo Code: [Wikiwand\"](https://www.wikiwand.com/en/Binary_search_algorithm)"
   ]
  },
  {
   "cell_type": "code",
   "execution_count": 5,
   "metadata": {
    "collapsed": true
   },
   "outputs": [],
   "source": [
    "def search(seq, key):\n",
    "    \"\"\"\n",
    "    Takes a list of sorted integers and searches if the `key` is contained within\n",
    "    the list.\n",
    "    :param seq: A list of sorted integers\n",
    "    :param key: The integer to be searched for\n",
    "    :rtype: The index of where the `key` is located in the list. If `key` is\n",
    "            not found then False is returned.\n",
    "    \"\"\"\n",
    "\n",
    "    lo = 0\n",
    "    hi = len(seq) - 1\n",
    "\n",
    "    while hi >= lo:\n",
    "        mid = lo + (hi - lo) // 2\n",
    "        if seq[mid] < key:\n",
    "            lo = mid + 1\n",
    "        elif seq[mid] > key:\n",
    "            hi = mid - 1\n",
    "        else:\n",
    "            return mid\n",
    "    return False"
   ]
  },
  {
   "cell_type": "code",
   "execution_count": 4,
   "metadata": {
    "collapsed": false
   },
   "outputs": [],
   "source": [
    "def test_search():\n",
    "    seq = range(10)\n",
    "    rv1 = search(seq, 0)\n",
    "    rv2 = search(seq, 9)\n",
    "    rv3 = search(seq, -1)\n",
    "    rv4 = search(seq, 10)\n",
    "    rv5 = search(seq, 4)\n",
    "    assert rv1 == 0\n",
    "    assert rv2 == 9\n",
    "    assert rv3 == False\n",
    "    assert rv4 == False\n",
    "    assert rv5 == 4"
   ]
  },
  {
   "cell_type": "code",
   "execution_count": null,
   "metadata": {
    "collapsed": true
   },
   "outputs": [],
   "source": []
  }
 ],
 "metadata": {
  "kernelspec": {
   "display_name": "Python 3",
   "language": "python",
   "name": "python3"
  },
  "language_info": {
   "codemirror_mode": {
    "name": "ipython",
    "version": 3
   },
   "file_extension": ".py",
   "mimetype": "text/x-python",
   "name": "python",
   "nbconvert_exporter": "python",
   "pygments_lexer": "ipython3",
   "version": "3.6.0"
  }
 },
 "nbformat": 4,
 "nbformat_minor": 2
}
